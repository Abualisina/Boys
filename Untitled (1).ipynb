{
 "cells": [
  {
   "cell_type": "markdown",
   "id": "839763c1-ed1e-4cc8-9a6e-bb807ca0e4f9",
   "metadata": {},
   "source": [
    "# Data Science Tools and Ecosystem"
   ]
  },
  {
   "cell_type": "markdown",
   "id": "b8577ce8-e81a-4084-8f8d-227247b011d1",
   "metadata": {},
   "source": [
    "In this notebook, Data Science Tools and Ecosystem are summarized."
   ]
  },
  {
   "cell_type": "markdown",
   "id": "31d3b5aa-3b8d-449a-b609-aa4ffeffdbfb",
   "metadata": {
    "tags": []
   },
   "source": [
    "**Objectives:**\n",
    "- List popular languages for Data Science\n",
    "- List popular Libraries for Data Science\n",
    "- List popular Tools for Data Science\n"
   ]
  },
  {
   "cell_type": "markdown",
   "id": "e5c033e0-b001-40ad-8278-d2c68da1d4f2",
   "metadata": {},
   "source": [
    "Some of the popular languages that Data Scientists use are:\n",
    "1. Mathplotib\n",
    "2. R\n",
    "3. Scala\n",
    "4. SQL"
   ]
  },
  {
   "cell_type": "markdown",
   "id": "9d626269-dafc-4035-846d-719666201def",
   "metadata": {},
   "source": [
    "Some of the commonly used libraries used by Data Scientists include:\n",
    "1. NumPy\n",
    "2. Matplotlib\n",
    "3. Pandas\n",
    "4. SciPy"
   ]
  },
  {
   "cell_type": "markdown",
   "id": "7f3fb8f0-1601-4aa6-97ec-7232243f766b",
   "metadata": {},
   "source": [
    "# Data Science Tools\n",
    "| Number | Tool            |\n",
    "|--------|-----------------|\n",
    "| 1      | JupyterNotebook |\n",
    "| 2      | JupyterLab      |\n",
    "| 3      | RStudio         | "
   ]
  },
  {
   "cell_type": "markdown",
   "id": "cbccc293-210f-4219-afda-8ad923e52acb",
   "metadata": {},
   "source": [
    "### Below are a few examples of evaluating arithmetic expressions in Python.\n"
   ]
  },
  {
   "cell_type": "code",
   "execution_count": 2,
   "id": "ba200470-1d60-4bfe-9c72-d1e1c3a44e35",
   "metadata": {
    "tags": []
   },
   "outputs": [
    {
     "data": {
      "text/plain": [
       "17"
      ]
     },
     "execution_count": 2,
     "metadata": {},
     "output_type": "execute_result"
    }
   ],
   "source": [
    "# This a simple arithmetic expression to mutiply then add integers.\n",
    "(3*4)+5"
   ]
  },
  {
   "cell_type": "code",
   "execution_count": 4,
   "id": "4598f887-7639-4749-8506-94432fb361da",
   "metadata": {
    "tags": []
   },
   "outputs": [
    {
     "data": {
      "text/plain": [
       "3.3333333333333335"
      ]
     },
     "execution_count": 4,
     "metadata": {},
     "output_type": "execute_result"
    }
   ],
   "source": [
    "# This will convert 200 minutes to hours by diving by 60\n",
    "(200/60)"
   ]
  },
  {
   "cell_type": "markdown",
   "id": "8296dac2-9489-4d4d-adc0-c62d1402c616",
   "metadata": {},
   "source": [
    "## heading Author \n",
    "Aidin"
   ]
  },
  {
   "cell_type": "code",
   "execution_count": null,
   "id": "2bb31bf8-b851-4d7e-bbcf-8d58b33a0fd8",
   "metadata": {},
   "outputs": [],
   "source": []
  }
 ],
 "metadata": {
  "kernelspec": {
   "display_name": "Python",
   "language": "python",
   "name": "conda-env-python-py"
  },
  "language_info": {
   "codemirror_mode": {
    "name": "ipython",
    "version": 3
   },
   "file_extension": ".py",
   "mimetype": "text/x-python",
   "name": "python",
   "nbconvert_exporter": "python",
   "pygments_lexer": "ipython3",
   "version": "3.7.12"
  }
 },
 "nbformat": 4,
 "nbformat_minor": 5
}
